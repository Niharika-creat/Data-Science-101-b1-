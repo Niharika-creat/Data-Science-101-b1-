{
 "cells": [
  {
   "cell_type": "markdown",
   "metadata": {},
   "source": [
    "# Assignment 3"
   ]
  },
  {
   "cell_type": "markdown",
   "metadata": {},
   "source": [
    "# Question 1"
   ]
  },
  {
   "cell_type": "code",
   "execution_count": 3,
   "metadata": {},
   "outputs": [
    {
     "name": "stdout",
     "output_type": "stream",
     "text": [
      "[ 2  5  8 11 14 17 20 23 26 29 32 35 38 41 44 47]\n"
     ]
    }
   ],
   "source": [
    "import numpy as np\n",
    "print(np.arange(2,50,3))"
   ]
  },
  {
   "cell_type": "markdown",
   "metadata": {},
   "source": [
    "# Question 2"
   ]
  },
  {
   "cell_type": "code",
   "execution_count": 2,
   "metadata": {},
   "outputs": [
    {
     "name": "stdout",
     "output_type": "stream",
     "text": [
      "Enter size of list:5\n",
      "\n",
      "Enter the list number seperated by space23 67 29 84 78\n",
      "First List: [23, 67, 29, 84, 78]\n",
      "\n",
      "Enter the list number seperated by space34 79 9 24 54\n",
      "Second List: [34, 79, 9, 24, 54]\n",
      "\n",
      "[23 67 29 84 78 34 79  9 24 54]\n",
      "\n",
      "Sorted Array: [ 9 23 24 29 34 54 67 78 79 84]\n"
     ]
    }
   ],
   "source": [
    "import numpy as np\n",
    "List = int(input(\"Enter size of list:\"))\n",
    "print()\n",
    "Array1 = list(int(num) \n",
    "  for num in input(\"Enter the list number seperated by space\").strip().split())\n",
    "print(\"First List:\", Array1)\n",
    "print()\n",
    "Array2 = list(int(num)\n",
    "  for num in input(\"Enter the list number seperated by space\").strip().split())\n",
    "print(\"Second List:\",Array2)\n",
    "print()\n",
    "Concatenated_array = np.concatenate((Array1,Array2),axis=0)\n",
    "print(Concatenated_array)\n",
    "print()\n",
    "Concatenated_array.sort()\n",
    "print(\"Sorted Array:\",Concatenated_array)"
   ]
  },
  {
   "cell_type": "markdown",
   "metadata": {},
   "source": [
    "# Question 3"
   ]
  },
  {
   "cell_type": "code",
   "execution_count": 4,
   "metadata": {},
   "outputs": [
    {
     "name": "stdout",
     "output_type": "stream",
     "text": [
      "2D Numpy Array\n",
      "[[ 1  2  3  4]\n",
      " [ 5  6  7  8]\n",
      " [ 9 10 11 12]]\n",
      "\n",
      "\n",
      "Number of Rows: 3\n",
      "Number of Columns: 4\n"
     ]
    }
   ],
   "source": [
    "import numpy as np\n",
    "arr2D = np.array([[1,2,3,4],[5,6,7,8],[9,10,11,12]])\n",
    "print('2D Numpy Array')\n",
    "print(arr2D)\n",
    "print(\"\\n\")\n",
    "numofRows = np.size(arr2D,0)\n",
    "print('Number of Rows:', numofRows)\n",
    "numofColumns = np.size(arr2D,1)\n",
    "print('Number of Columns:',numofColumns)"
   ]
  },
  {
   "cell_type": "markdown",
   "metadata": {},
   "source": [
    "# Question 4"
   ]
  },
  {
   "cell_type": "code",
   "execution_count": 5,
   "metadata": {},
   "outputs": [
    {
     "name": "stdout",
     "output_type": "stream",
     "text": [
      "[ 1  2  3  4  5  6  7  8  9 10]\n",
      "\n",
      "[[ 1  2]\n",
      " [ 3  4]\n",
      " [ 5  6]\n",
      " [ 7  8]\n",
      " [ 9 10]]\n"
     ]
    }
   ],
   "source": [
    "import numpy as np\n",
    "arr = np.array([1,2,3,4,5,6,7,8,9,10])\n",
    "print(arr)\n",
    "print()\n",
    "print(arr.reshape(5,2))"
   ]
  },
  {
   "cell_type": "markdown",
   "metadata": {},
   "source": [
    "# Question 5"
   ]
  },
  {
   "cell_type": "code",
   "execution_count": 6,
   "metadata": {},
   "outputs": [
    {
     "name": "stdout",
     "output_type": "stream",
     "text": [
      "[[1 2]\n",
      " [3 4]\n",
      " [5 6]\n",
      " [7 8]]\n",
      "\n",
      "[[1 2 5 6]\n",
      " [3 4 7 8]]\n"
     ]
    }
   ],
   "source": [
    "import numpy as np\n",
    "x = np.array([[1,2],[3,4]])\n",
    "y = np.array([[5,6],[7,8]])\n",
    "print(np.vstack((x,y)))\n",
    "print()\n",
    "print(np.hstack((x,y)))"
   ]
  },
  {
   "cell_type": "markdown",
   "metadata": {},
   "source": [
    "# Question 6"
   ]
  },
  {
   "cell_type": "code",
   "execution_count": 7,
   "metadata": {},
   "outputs": [
    {
     "name": "stdout",
     "output_type": "stream",
     "text": [
      "[10 20 30 49 50 60]\n",
      "\n",
      "6\n"
     ]
    }
   ],
   "source": [
    "import numpy as np\n",
    "arr = np.array([10,10,20,20,20,30,50,60,49,60,49,30])\n",
    "#unique elements\n",
    "print(np.unique(arr))\n",
    "print()\n",
    "#count unique elements\n",
    "arr_1 = set(arr)\n",
    "print(len(arr_1))"
   ]
  }
 ],
 "metadata": {
  "kernelspec": {
   "display_name": "Python 3",
   "language": "python",
   "name": "python3"
  },
  "language_info": {
   "codemirror_mode": {
    "name": "ipython",
    "version": 3
   },
   "file_extension": ".py",
   "mimetype": "text/x-python",
   "name": "python",
   "nbconvert_exporter": "python",
   "pygments_lexer": "ipython3",
   "version": "3.8.3"
  }
 },
 "nbformat": 4,
 "nbformat_minor": 4
}
